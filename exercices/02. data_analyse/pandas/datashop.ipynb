{
 "cells": [
  {
   "cell_type": "code",
   "execution_count": 1,
   "metadata": {},
   "outputs": [],
   "source": [
    "import pandas as pd\n",
    "import sqlite3\n",
    "from datetime import datetime, timedelta\n",
    "import random"
   ]
  },
  {
   "cell_type": "code",
   "execution_count": 2,
   "metadata": {},
   "outputs": [],
   "source": [
    "# 1. Génération du dictionnaire pour le dataset de ventes électroniques factices\n",
    "n_ventes = 1000000\n",
    "n_dates = 365\n",
    "dates_vente = [(datetime.now() - timedelta(days=i % n_dates)).strftime('%Y-%m-%d') for i in range(n_ventes)]\n",
    "produits = ['Ordinateur', 'Tablette', 'Smartphone', 'Casque Audio', 'Souris', 'Clavier']\n",
    "categories = ['Electronique', 'Accessoire']\n",
    "data = {\n",
    "    'ID_Vente': list(range(1, n_ventes + 1)),\n",
    "    'Date_Vente': random.choices(dates_vente, k=n_ventes),\n",
    "    'ID_Produit': [f\"SK-{random.randint(1000, 2000)}\" for _ in range(n_ventes)],\n",
    "    'Nom_Produit': random.choices(produits, k=n_ventes),\n",
    "    'Categorie_Produit': random.choices(categories, k=n_ventes),\n",
    "    'Quantite': [random.randint(1, 5) for _ in range(n_ventes)],\n",
    "    'Prix_Unitaire': [round(random.uniform(20, 1500), 2) for _ in range(n_ventes)]\n",
    "}"
   ]
  },
  {
   "cell_type": "code",
   "execution_count": 4,
   "metadata": {},
   "outputs": [
    {
     "data": {
      "text/plain": [
       "2           Ordinateur\n",
       "3           Smartphone\n",
       "5              Clavier\n",
       "7           Smartphone\n",
       "10          Smartphone\n",
       "              ...     \n",
       "999992      Smartphone\n",
       "999993        Tablette\n",
       "999995    Casque Audio\n",
       "999997      Smartphone\n",
       "999998         Clavier\n",
       "Name: Nom_Produit, Length: 499394, dtype: object"
      ]
     },
     "execution_count": 4,
     "metadata": {},
     "output_type": "execute_result"
    }
   ],
   "source": [
    "df_ventes = pd.DataFrame(data)\n",
    "df_ventes[df_ventes[\"Prix_Unitaire\"] > df_ventes[\"Prix_Unitaire\"].mean()][\"Nom_Produit\"]"
   ]
  },
  {
   "cell_type": "code",
   "execution_count": 7,
   "metadata": {},
   "outputs": [
    {
     "data": {
      "text/plain": [
       "1000000"
      ]
     },
     "execution_count": 7,
     "metadata": {},
     "output_type": "execute_result"
    }
   ],
   "source": [
    "conn = sqlite3.connect(\"datashop.sqlite3\")\n",
    "df_ventes.to_sql(\"ventes\", conn, if_exists=\"replace\", index=False)"
   ]
  },
  {
   "cell_type": "code",
   "execution_count": 8,
   "metadata": {},
   "outputs": [
    {
     "data": {
      "text/html": [
       "<div>\n",
       "<style scoped>\n",
       "    .dataframe tbody tr th:only-of-type {\n",
       "        vertical-align: middle;\n",
       "    }\n",
       "\n",
       "    .dataframe tbody tr th {\n",
       "        vertical-align: top;\n",
       "    }\n",
       "\n",
       "    .dataframe thead th {\n",
       "        text-align: right;\n",
       "    }\n",
       "</style>\n",
       "<table border=\"1\" class=\"dataframe\">\n",
       "  <thead>\n",
       "    <tr style=\"text-align: right;\">\n",
       "      <th></th>\n",
       "      <th>ID_Vente</th>\n",
       "      <th>Date_Vente</th>\n",
       "      <th>ID_Produit</th>\n",
       "      <th>Nom_Produit</th>\n",
       "      <th>Categorie_Produit</th>\n",
       "      <th>Quantite</th>\n",
       "      <th>Prix_Unitaire</th>\n",
       "    </tr>\n",
       "  </thead>\n",
       "  <tbody>\n",
       "    <tr>\n",
       "      <th>0</th>\n",
       "      <td>1</td>\n",
       "      <td>2023-07-25</td>\n",
       "      <td>SK-1032</td>\n",
       "      <td>Casque Audio</td>\n",
       "      <td>Accessoire</td>\n",
       "      <td>1</td>\n",
       "      <td>447.60</td>\n",
       "    </tr>\n",
       "    <tr>\n",
       "      <th>1</th>\n",
       "      <td>2</td>\n",
       "      <td>2023-04-08</td>\n",
       "      <td>SK-1816</td>\n",
       "      <td>Casque Audio</td>\n",
       "      <td>Electronique</td>\n",
       "      <td>3</td>\n",
       "      <td>122.57</td>\n",
       "    </tr>\n",
       "    <tr>\n",
       "      <th>2</th>\n",
       "      <td>3</td>\n",
       "      <td>2023-04-30</td>\n",
       "      <td>SK-1829</td>\n",
       "      <td>Ordinateur</td>\n",
       "      <td>Electronique</td>\n",
       "      <td>3</td>\n",
       "      <td>1096.60</td>\n",
       "    </tr>\n",
       "    <tr>\n",
       "      <th>3</th>\n",
       "      <td>4</td>\n",
       "      <td>2023-04-05</td>\n",
       "      <td>SK-1467</td>\n",
       "      <td>Smartphone</td>\n",
       "      <td>Accessoire</td>\n",
       "      <td>3</td>\n",
       "      <td>1375.28</td>\n",
       "    </tr>\n",
       "    <tr>\n",
       "      <th>4</th>\n",
       "      <td>5</td>\n",
       "      <td>2024-01-31</td>\n",
       "      <td>SK-1633</td>\n",
       "      <td>Tablette</td>\n",
       "      <td>Electronique</td>\n",
       "      <td>2</td>\n",
       "      <td>500.13</td>\n",
       "    </tr>\n",
       "    <tr>\n",
       "      <th>...</th>\n",
       "      <td>...</td>\n",
       "      <td>...</td>\n",
       "      <td>...</td>\n",
       "      <td>...</td>\n",
       "      <td>...</td>\n",
       "      <td>...</td>\n",
       "      <td>...</td>\n",
       "    </tr>\n",
       "    <tr>\n",
       "      <th>999995</th>\n",
       "      <td>999996</td>\n",
       "      <td>2024-02-24</td>\n",
       "      <td>SK-1779</td>\n",
       "      <td>Casque Audio</td>\n",
       "      <td>Electronique</td>\n",
       "      <td>5</td>\n",
       "      <td>842.50</td>\n",
       "    </tr>\n",
       "    <tr>\n",
       "      <th>999996</th>\n",
       "      <td>999997</td>\n",
       "      <td>2023-05-17</td>\n",
       "      <td>SK-1260</td>\n",
       "      <td>Souris</td>\n",
       "      <td>Accessoire</td>\n",
       "      <td>1</td>\n",
       "      <td>278.96</td>\n",
       "    </tr>\n",
       "    <tr>\n",
       "      <th>999997</th>\n",
       "      <td>999998</td>\n",
       "      <td>2024-03-09</td>\n",
       "      <td>SK-1667</td>\n",
       "      <td>Smartphone</td>\n",
       "      <td>Accessoire</td>\n",
       "      <td>3</td>\n",
       "      <td>903.49</td>\n",
       "    </tr>\n",
       "    <tr>\n",
       "      <th>999998</th>\n",
       "      <td>999999</td>\n",
       "      <td>2023-05-05</td>\n",
       "      <td>SK-1385</td>\n",
       "      <td>Clavier</td>\n",
       "      <td>Accessoire</td>\n",
       "      <td>5</td>\n",
       "      <td>835.73</td>\n",
       "    </tr>\n",
       "    <tr>\n",
       "      <th>999999</th>\n",
       "      <td>1000000</td>\n",
       "      <td>2023-11-01</td>\n",
       "      <td>SK-1280</td>\n",
       "      <td>Souris</td>\n",
       "      <td>Accessoire</td>\n",
       "      <td>5</td>\n",
       "      <td>210.27</td>\n",
       "    </tr>\n",
       "  </tbody>\n",
       "</table>\n",
       "<p>1000000 rows × 7 columns</p>\n",
       "</div>"
      ],
      "text/plain": [
       "        ID_Vente  Date_Vente ID_Produit   Nom_Produit Categorie_Produit  \\\n",
       "0              1  2023-07-25    SK-1032  Casque Audio        Accessoire   \n",
       "1              2  2023-04-08    SK-1816  Casque Audio      Electronique   \n",
       "2              3  2023-04-30    SK-1829    Ordinateur      Electronique   \n",
       "3              4  2023-04-05    SK-1467    Smartphone        Accessoire   \n",
       "4              5  2024-01-31    SK-1633      Tablette      Electronique   \n",
       "...          ...         ...        ...           ...               ...   \n",
       "999995    999996  2024-02-24    SK-1779  Casque Audio      Electronique   \n",
       "999996    999997  2023-05-17    SK-1260        Souris        Accessoire   \n",
       "999997    999998  2024-03-09    SK-1667    Smartphone        Accessoire   \n",
       "999998    999999  2023-05-05    SK-1385       Clavier        Accessoire   \n",
       "999999   1000000  2023-11-01    SK-1280        Souris        Accessoire   \n",
       "\n",
       "        Quantite  Prix_Unitaire  \n",
       "0              1         447.60  \n",
       "1              3         122.57  \n",
       "2              3        1096.60  \n",
       "3              3        1375.28  \n",
       "4              2         500.13  \n",
       "...          ...            ...  \n",
       "999995         5         842.50  \n",
       "999996         1         278.96  \n",
       "999997         3         903.49  \n",
       "999998         5         835.73  \n",
       "999999         5         210.27  \n",
       "\n",
       "[1000000 rows x 7 columns]"
      ]
     },
     "execution_count": 8,
     "metadata": {},
     "output_type": "execute_result"
    }
   ],
   "source": [
    "df_ventes_2 = pd.read_sql(\"SELECT * FROM ventes\", conn)\n",
    "df_ventes_2"
   ]
  },
  {
   "cell_type": "code",
   "execution_count": 9,
   "metadata": {},
   "outputs": [],
   "source": [
    "conn.close()"
   ]
  }
 ],
 "metadata": {
  "kernelspec": {
   "display_name": "Python 3",
   "language": "python",
   "name": "python3"
  },
  "language_info": {
   "codemirror_mode": {
    "name": "ipython",
    "version": 3
   },
   "file_extension": ".py",
   "mimetype": "text/x-python",
   "name": "python",
   "nbconvert_exporter": "python",
   "pygments_lexer": "ipython3",
   "version": "3.12.1"
  }
 },
 "nbformat": 4,
 "nbformat_minor": 2
}
