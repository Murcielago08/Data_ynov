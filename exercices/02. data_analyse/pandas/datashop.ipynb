{
 "cells": [
  {
   "cell_type": "code",
   "execution_count": 2,
   "metadata": {},
   "outputs": [],
   "source": [
    "import pandas as pd\n",
    "import sqlite3\n",
    "from datetime import datetime, timedelta\n",
    "import random"
   ]
  },
  {
   "cell_type": "code",
   "execution_count": 3,
   "metadata": {},
   "outputs": [],
   "source": [
    "# 1. Génération du dictionnaire pour le dataset de ventes électroniques factices\n",
    "n_ventes = 1000000\n",
    "n_dates = 365\n",
    "dates_vente = [(datetime.now() - timedelta(days=i % n_dates)).strftime('%Y-%m-%d') for i in range(n_ventes)]\n",
    "produits = ['Ordinateur', 'Tablette', 'Smartphone', 'Casque Audio', 'Souris', 'Clavier']\n",
    "categories = ['Electronique', 'Accessoire', 'Licence logicielle']\n",
    "data = {\n",
    "    'ID_Vente': list(range(1, n_ventes + 1)),\n",
    "    'Date_Vente': random.choices(dates_vente, k=n_ventes),\n",
    "    'ID_Produit': [f\"SK-{random.randint(1000, 2000)}\" for _ in range(n_ventes)],\n",
    "    'Nom_Produit': random.choices(produits, k=n_ventes),\n",
    "    'Categorie_Produit': random.choices(categories, k=n_ventes),\n",
    "    'Quantite': [random.randint(1, 5) for _ in range(n_ventes)],\n",
    "    'Prix_Unitaire': [round(random.uniform(20, 1500), 2) for _ in range(n_ventes)]\n",
    "}"
   ]
  },
  {
   "cell_type": "code",
   "execution_count": 4,
   "metadata": {},
   "outputs": [
    {
     "data": {
      "text/plain": [
       "0            Clavier\n",
       "4            Clavier\n",
       "6           Tablette\n",
       "9            Clavier\n",
       "10        Ordinateur\n",
       "             ...    \n",
       "999991       Clavier\n",
       "999993        Souris\n",
       "999994    Smartphone\n",
       "999996    Smartphone\n",
       "999998    Ordinateur\n",
       "Name: Nom_Produit, Length: 499974, dtype: object"
      ]
     },
     "execution_count": 4,
     "metadata": {},
     "output_type": "execute_result"
    }
   ],
   "source": [
    "df_ventes = pd.DataFrame(data)\n",
    "df_ventes[df_ventes[\"Prix_Unitaire\"] > df_ventes[\"Prix_Unitaire\"].mean()][\"Nom_Produit\"]"
   ]
  },
  {
   "cell_type": "code",
   "execution_count": 5,
   "metadata": {},
   "outputs": [
    {
     "data": {
      "text/plain": [
       "1000000"
      ]
     },
     "execution_count": 5,
     "metadata": {},
     "output_type": "execute_result"
    }
   ],
   "source": [
    "conn = sqlite3.connect(\"datashop.sqlite3\")\n",
    "df_ventes.to_sql(\"ventes\", conn, if_exists=\"replace\", index=False)"
   ]
  },
  {
   "cell_type": "code",
   "execution_count": 6,
   "metadata": {},
   "outputs": [
    {
     "data": {
      "text/html": [
       "<div>\n",
       "<style scoped>\n",
       "    .dataframe tbody tr th:only-of-type {\n",
       "        vertical-align: middle;\n",
       "    }\n",
       "\n",
       "    .dataframe tbody tr th {\n",
       "        vertical-align: top;\n",
       "    }\n",
       "\n",
       "    .dataframe thead th {\n",
       "        text-align: right;\n",
       "    }\n",
       "</style>\n",
       "<table border=\"1\" class=\"dataframe\">\n",
       "  <thead>\n",
       "    <tr style=\"text-align: right;\">\n",
       "      <th></th>\n",
       "      <th>ID_Vente</th>\n",
       "      <th>Date_Vente</th>\n",
       "      <th>ID_Produit</th>\n",
       "      <th>Nom_Produit</th>\n",
       "      <th>Categorie_Produit</th>\n",
       "      <th>Quantite</th>\n",
       "      <th>Prix_Unitaire</th>\n",
       "    </tr>\n",
       "  </thead>\n",
       "  <tbody>\n",
       "    <tr>\n",
       "      <th>0</th>\n",
       "      <td>1</td>\n",
       "      <td>2023-07-20</td>\n",
       "      <td>SK-1265</td>\n",
       "      <td>Clavier</td>\n",
       "      <td>Accessoire</td>\n",
       "      <td>2</td>\n",
       "      <td>1478.74</td>\n",
       "    </tr>\n",
       "    <tr>\n",
       "      <th>1</th>\n",
       "      <td>2</td>\n",
       "      <td>2023-03-31</td>\n",
       "      <td>SK-1520</td>\n",
       "      <td>Souris</td>\n",
       "      <td>Licence logicielle</td>\n",
       "      <td>3</td>\n",
       "      <td>287.08</td>\n",
       "    </tr>\n",
       "    <tr>\n",
       "      <th>2</th>\n",
       "      <td>3</td>\n",
       "      <td>2023-11-03</td>\n",
       "      <td>SK-1250</td>\n",
       "      <td>Casque Audio</td>\n",
       "      <td>Accessoire</td>\n",
       "      <td>1</td>\n",
       "      <td>693.53</td>\n",
       "    </tr>\n",
       "    <tr>\n",
       "      <th>3</th>\n",
       "      <td>4</td>\n",
       "      <td>2024-01-05</td>\n",
       "      <td>SK-1704</td>\n",
       "      <td>Casque Audio</td>\n",
       "      <td>Electronique</td>\n",
       "      <td>1</td>\n",
       "      <td>559.99</td>\n",
       "    </tr>\n",
       "    <tr>\n",
       "      <th>4</th>\n",
       "      <td>5</td>\n",
       "      <td>2023-10-21</td>\n",
       "      <td>SK-1569</td>\n",
       "      <td>Clavier</td>\n",
       "      <td>Licence logicielle</td>\n",
       "      <td>2</td>\n",
       "      <td>1321.65</td>\n",
       "    </tr>\n",
       "    <tr>\n",
       "      <th>...</th>\n",
       "      <td>...</td>\n",
       "      <td>...</td>\n",
       "      <td>...</td>\n",
       "      <td>...</td>\n",
       "      <td>...</td>\n",
       "      <td>...</td>\n",
       "      <td>...</td>\n",
       "    </tr>\n",
       "    <tr>\n",
       "      <th>999995</th>\n",
       "      <td>999996</td>\n",
       "      <td>2023-09-28</td>\n",
       "      <td>SK-1965</td>\n",
       "      <td>Smartphone</td>\n",
       "      <td>Licence logicielle</td>\n",
       "      <td>5</td>\n",
       "      <td>84.89</td>\n",
       "    </tr>\n",
       "    <tr>\n",
       "      <th>999996</th>\n",
       "      <td>999997</td>\n",
       "      <td>2023-12-07</td>\n",
       "      <td>SK-1249</td>\n",
       "      <td>Smartphone</td>\n",
       "      <td>Accessoire</td>\n",
       "      <td>1</td>\n",
       "      <td>1277.74</td>\n",
       "    </tr>\n",
       "    <tr>\n",
       "      <th>999997</th>\n",
       "      <td>999998</td>\n",
       "      <td>2023-07-08</td>\n",
       "      <td>SK-1237</td>\n",
       "      <td>Casque Audio</td>\n",
       "      <td>Licence logicielle</td>\n",
       "      <td>5</td>\n",
       "      <td>346.08</td>\n",
       "    </tr>\n",
       "    <tr>\n",
       "      <th>999998</th>\n",
       "      <td>999999</td>\n",
       "      <td>2023-06-06</td>\n",
       "      <td>SK-1658</td>\n",
       "      <td>Ordinateur</td>\n",
       "      <td>Accessoire</td>\n",
       "      <td>5</td>\n",
       "      <td>897.31</td>\n",
       "    </tr>\n",
       "    <tr>\n",
       "      <th>999999</th>\n",
       "      <td>1000000</td>\n",
       "      <td>2023-07-23</td>\n",
       "      <td>SK-1429</td>\n",
       "      <td>Clavier</td>\n",
       "      <td>Accessoire</td>\n",
       "      <td>1</td>\n",
       "      <td>101.89</td>\n",
       "    </tr>\n",
       "  </tbody>\n",
       "</table>\n",
       "<p>1000000 rows × 7 columns</p>\n",
       "</div>"
      ],
      "text/plain": [
       "        ID_Vente  Date_Vente ID_Produit   Nom_Produit   Categorie_Produit  \\\n",
       "0              1  2023-07-20    SK-1265       Clavier          Accessoire   \n",
       "1              2  2023-03-31    SK-1520        Souris  Licence logicielle   \n",
       "2              3  2023-11-03    SK-1250  Casque Audio          Accessoire   \n",
       "3              4  2024-01-05    SK-1704  Casque Audio        Electronique   \n",
       "4              5  2023-10-21    SK-1569       Clavier  Licence logicielle   \n",
       "...          ...         ...        ...           ...                 ...   \n",
       "999995    999996  2023-09-28    SK-1965    Smartphone  Licence logicielle   \n",
       "999996    999997  2023-12-07    SK-1249    Smartphone          Accessoire   \n",
       "999997    999998  2023-07-08    SK-1237  Casque Audio  Licence logicielle   \n",
       "999998    999999  2023-06-06    SK-1658    Ordinateur          Accessoire   \n",
       "999999   1000000  2023-07-23    SK-1429       Clavier          Accessoire   \n",
       "\n",
       "        Quantite  Prix_Unitaire  \n",
       "0              2        1478.74  \n",
       "1              3         287.08  \n",
       "2              1         693.53  \n",
       "3              1         559.99  \n",
       "4              2        1321.65  \n",
       "...          ...            ...  \n",
       "999995         5          84.89  \n",
       "999996         1        1277.74  \n",
       "999997         5         346.08  \n",
       "999998         5         897.31  \n",
       "999999         1         101.89  \n",
       "\n",
       "[1000000 rows x 7 columns]"
      ]
     },
     "execution_count": 6,
     "metadata": {},
     "output_type": "execute_result"
    }
   ],
   "source": [
    "df_ventes_2 = pd.read_sql(\"SELECT * FROM ventes\", conn)\n",
    "df_ventes_2"
   ]
  },
  {
   "cell_type": "code",
   "execution_count": 7,
   "metadata": {},
   "outputs": [],
   "source": [
    "conn.close()"
   ]
  },
  {
   "cell_type": "markdown",
   "metadata": {},
   "source": [
    "## Data analyse\n",
    "\n",
    "- Exploration initiale\n",
    "- Analyser les ventes par produit\n",
    "  - Volume total\n",
    "  - Revenu généré\n",
    "  - Tendance dans ventes sur la période\n",
    "  - Perforamance de chaque catégorie\n",
    "- Etudier la présence de corrélations\n",
    "- Analyser les outliers\n",
    "- Visualiser les données (Excel) \n",
    "\n",
    "## Data opérationnelle\n",
    "\n",
    "- Extraire les catégories du DF\n",
    "- Générer un dataframe de catégories\n",
    "- Créer un modèle relationnel dans la DB"
   ]
  }
 ],
 "metadata": {
  "kernelspec": {
   "display_name": "Python 3",
   "language": "python",
   "name": "python3"
  },
  "language_info": {
   "codemirror_mode": {
    "name": "ipython",
    "version": 3
   },
   "file_extension": ".py",
   "mimetype": "text/x-python",
   "name": "python",
   "nbconvert_exporter": "python",
   "pygments_lexer": "ipython3",
   "version": "3.12.1"
  }
 },
 "nbformat": 4,
 "nbformat_minor": 2
}
